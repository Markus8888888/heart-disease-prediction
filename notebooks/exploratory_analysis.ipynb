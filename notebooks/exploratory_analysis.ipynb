{
 "cells": [
  {
   "cell_type": "markdown",
   "id": "dd4af4e5",
   "metadata": {},
   "source": [
    "# Predicting Heart Disease Risk\n",
    "#### By Markus Chu"
   ]
  },
  {
   "cell_type": "markdown",
   "id": "31b0d370",
   "metadata": {},
   "source": [
    "---\n",
    "#### Introduction\n",
    "According to the World Health Organization, heart disease is still the leading cause of death globally, with over 17.9 million deaths per year, which is about 32% of all global fatalities (World Health Organization, 2021). Even with medical advancements like the use of AI, it is still hard to detect heart disease in its early stages. It is important to consider that traditional diagnostic methods rely on clinical assessments, tests, and imaging, which are time-consuming, expensive, and sometimes even inaccessible.\n",
    "\n",
    "Using machine learning (ML) offers an approach to predict heart disease risk efficiently and cost-effectively. These predictive models can consider a variety of health factors to analyze patterns related to heart disease risk. This allows for earlier responses, such as potential lifestyle adjustments, medical treatment, or additional diagnostic testing."
   ]
  },
  {
   "cell_type": "markdown",
   "id": "a4c1ca00",
   "metadata": {},
   "source": [
    "---\n",
    "#### Objective\n",
    "\n",
    "**The goal of this project is to develop an accurate ML model that predicts one's risk of getting heart disease with patient data.**\n",
    "\n",
    "This model will:\n",
    "1. Provide binary classification (presence or absence of heart disease)\n",
    "2. Generate risk probabilities (0-100%)\n",
    "3. Identify key contributing factors of heart disease\n",
    "\n",
    "Intended use:\n",
    "1. Help doctors make early decisions\n",
    "2. Let patients check their own health risks\n",
    "3. Support research on how health risk factors work together\n"
   ]
  },
  {
   "cell_type": "markdown",
   "id": "84321545",
   "metadata": {},
   "source": [
    "---\n",
    "#### Data\n",
    "The dataset is from Kaggle (\"Heart Disease\"), and contains multiple health indicators and lifestyle factors assess heart disease risk.\n",
    "\n",
    "<u> Variables (21): </u>\n",
    "1. **Age**: Patient age in years (continuous)\n",
    "2. **Gender**: Biological sex (\"Male\" or \"Female\")\n",
    "3. **Blood Pressure**: Systolic blood pressure measurement in mmHg (continuous)\n",
    "4. **Cholesterol Level**: Total cholesterol measurement in mg/dL (continuous)\n",
    "5. **Exercise Habits**: Self-reported exercise frequency (\"Low\", \"Medium\", \"High\")\n",
    "6. **Smoking**: Smoking status at the time (\"Yes\" or \"No\")\n",
    "7. **Family Heart Disease**: Family history of heart disease (\"Yes\" or \"No\")\n",
    "8. **Diabetes**: Diabetes diagnosis (\"Yes\" or \"No\")\n",
    "9. **BMI**: Body Mass Index in kg/m^2 (continuous)\n",
    "    - Underweight: < 18.5\n",
    "    - Normal Weight: 18.5 - 24.9\n",
    "    - Overweight: 25 - 29.9\n",
    "    - Obese: 30 <=\n",
    "10. **High Blood Pressure**: Hypertension diagnosis (\"Yes\" or \"No\")\n",
    "11. **Low HDL Cholesterol**: Low \"good\" cholesterol (\"Yes\" or \"No\")\n",
    "12. **High LDL Cholesterol**: High \"bad\" cholesterol (\"Yes\" or \"No\")\n",
    "13. **Alcohol Consumption**: Self-reported alcohol intake (\"None\", \"Low\", \"Medium\", \"High\")\n",
    "14. **Stress Level**: Perceived stress (\"Low\", \"Medium\", \"High\")\n",
    "15. **Sleep Hours**: Average hours of sleep at night (continuous)\n",
    "16. **Sugar Consumption**: Self-reported sugar intake (\"Low\", \"Medium\", \"High\")\n",
    "17. **Triglyceride Level**: Blood triglyceride measurement in mg/dL (continuous)\n",
    "18. **Fasting Blood Sugar**: Sugar level after fasting in mg/dL (continuous)\n",
    "19. **CRP Level**: C-reactive protein levels in mg/dL, showing presence and extent of inflammation in the body (continuous)\n",
    "    - Normal: < 0.3\n",
    "20. **Homocysteine Level**: Amino acid linked to heart disease in μmol/L (continuous)\n",
    "21. **Heart Disease Status**: Presence of heart disease (\"Yes\" or \"No\")"
   ]
  },
  {
   "cell_type": "markdown",
   "id": "12f24a1b",
   "metadata": {},
   "source": [
    "<u> Data Features: </u>\n",
    "- 10 continuous variables, 7 binary variables, 4 categorical variables"
   ]
  },
  {
   "cell_type": "markdown",
   "id": "e3ce313c",
   "metadata": {},
   "source": [
    "---\n",
    "## 3. Data Description\n",
    "\n",
    "Describe the dataset(s) you will use:\n",
    "- Source of the data\n",
    "- Number of records and features\n",
    "- Description of key features (age, sex, cholesterol, etc.)\n",
    "\n",
    "## 4. Exploratory Data Analysis (EDA)\n",
    "\n",
    "- Summary statistics\n",
    "- Data visualization (histograms, boxplots, correlations)\n",
    "- Handling missing values and outliers\n",
    "\n",
    "## 5. Data Preprocessing\n",
    "\n",
    "- Feature engineering\n",
    "- Encoding categorical variables\n",
    "- Scaling/normalization\n",
    "- Splitting data into training and test sets\n",
    "\n",
    "## 6. Model Selection and Training\n",
    "\n",
    "- Algorithms chosen (e.g., Logistic Regression, Random Forest, etc.)\n",
    "- Model training details\n",
    "- Hyperparameter tuning\n",
    "\n",
    "## 7. Model Evaluation\n",
    "\n",
    "- Metrics used (accuracy, precision, recall, ROC-AUC)\n",
    "- Confusion matrix\n",
    "- Cross-validation results\n",
    "\n",
    "## 8. Results and Discussion\n",
    "\n",
    "- Interpret the results\n",
    "- Feature importance\n",
    "- Limitations of the model\n",
    "\n",
    "## 9. Conclusion\n",
    "\n",
    "Summarize the findings and potential next steps.\n",
    "\n",
    "## 10. References\n",
    "\n",
    "List any papers, articles, or resources you referenced.\n",
    "\n",
    "---"
   ]
  },
  {
   "cell_type": "markdown",
   "id": "f5a6e441",
   "metadata": {},
   "source": []
  },
  {
   "cell_type": "code",
   "execution_count": 1,
   "id": "941fbb1d",
   "metadata": {},
   "outputs": [],
   "source": [
    "# Libaries for Data cleaning, manipulation, visualization, statistical analysis, ML\n",
    "import numpy as np\n",
    "import pandas as pd\n",
    "import matplotlib.pyplot as plt\n",
    "import seaborn as sns\n",
    "from sklearn.model_selection import train_test_split\n",
    "from sklearn.preprocessing import StandardScaler\n",
    "from sklearn.linear_model import LinearRegression\n",
    "from sklearn.ensemble import RandomForestClassifier\n",
    "from sklearn.metrics import accuracy_score, confusion_matrix, classification_report"
   ]
  },
  {
   "cell_type": "code",
   "execution_count": 3,
   "id": "fbf02ab9",
   "metadata": {},
   "outputs": [],
   "source": [
    "df = pd.read_csv(\"data/heart_disease.csv\")"
   ]
  },
  {
   "cell_type": "code",
   "execution_count": null,
   "id": "6797bc19",
   "metadata": {},
   "outputs": [],
   "source": []
  }
 ],
 "metadata": {
  "kernelspec": {
   "display_name": "venv",
   "language": "python",
   "name": "python3"
  },
  "language_info": {
   "codemirror_mode": {
    "name": "ipython",
    "version": 3
   },
   "file_extension": ".py",
   "mimetype": "text/x-python",
   "name": "python",
   "nbconvert_exporter": "python",
   "pygments_lexer": "ipython3",
   "version": "3.13.5"
  }
 },
 "nbformat": 4,
 "nbformat_minor": 5
}
