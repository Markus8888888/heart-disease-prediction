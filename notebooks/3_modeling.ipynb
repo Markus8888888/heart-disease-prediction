{
 "cells": [
  {
   "cell_type": "markdown",
   "id": "f741bd48",
   "metadata": {},
   "source": [
    "# Modeling\n",
    "Build, train and tune ML models to predict heart disease using preprocessed data"
   ]
  },
  {
   "cell_type": "code",
   "execution_count": 54,
   "id": "88641f7c",
   "metadata": {},
   "outputs": [],
   "source": [
    "# Load Libaries\n",
    "import pandas as pd\n",
    "import pickle\n",
    "from sklearn.linear_model import LogisticRegression\n",
    "from sklearn.ensemble import RandomForestClassifier\n",
    "from sklearn.svm import SVC\n",
    "from sklearn.neighbors import KNeighborsClassifier\n",
    "from sklearn.metrics import classification_report, confusion_matrix, roc_auc_score\n",
    "from sklearn.model_selection import cross_val_score, GridSearchCV\n",
    "from sklearn.pipeline import Pipeline\n",
    "from sklearn.preprocessing import StandardScaler\n",
    "\n",
    "# Load the saved data splits\n",
    "with open(\"../data/split_data/x_train.pkl\", \"rb\") as f:\n",
    "    x_train = pickle.load(f)\n",
    "\n",
    "with open(\"../data/split_data/x_train.pkl\", \"rb\") as f:\n",
    "    y_train = pickle.load(f)\n",
    "\n",
    "with open(\"../data/split_data/x_train.pkl\", \"rb\") as f:\n",
    "    x_test = pickle.load(f)\n",
    "\n",
    "with open(\"../data/split_data/x_train.pkl\", \"rb\") as f:\n",
    "    y_test = pickle.load(f)"
   ]
  },
  {
   "cell_type": "markdown",
   "id": "63a78df2",
   "metadata": {},
   "source": [
    "---\n",
    "## Dealing with Class Imbalance"
   ]
  },
  {
   "cell_type": "markdown",
   "id": "23bb827c",
   "metadata": {},
   "source": [
    "Note that the dataset is imbalanced, where most entries belong to the \"Absent\" class for heart disease status. It is important to deal with this imbalance as it may cause the model to be bias and predict the majority class more. Oversampling to balance the classes in the training set will allow the model to better learn patterns associated with the minority class."
   ]
  },
  {
   "cell_type": "code",
   "execution_count": 37,
   "id": "bbcd46a6",
   "metadata": {},
   "outputs": [
    {
     "name": "stdout",
     "output_type": "stream",
     "text": [
      "Balanced training set distribution:\n",
      "heart_disease_status\n",
      "0    6400\n",
      "1    6400\n",
      "Name: count, dtype: int64\n"
     ]
    }
   ],
   "source": [
    "# Combine x_train and y_train for oversampling\n",
    "training_data = pd.concat([x_train, y_train], axis = 1)\n",
    "\n",
    "# Oversampling (for equal majority and minority class)\n",
    "majority_class = training_data[training_data[\"heart_disease_status\"] == 0]\n",
    "minority_class = training_data[training_data[\"heart_disease_status\"] == 1]\n",
    "minority_oversampled = minority_class.sample(n = len(majority_class), replace = True, random_state = 1)\n",
    "\n",
    "# New training data\n",
    "training_data_balanced = pd.concat([majority_class, minority_oversampled])\n",
    "training_data_balanced = training_data_balanced.sample(frac = 1, random_state = 1).reset_index(drop = True)\n",
    "\n",
    "# Separate balanced training data\n",
    "x_train_balanced = training_data_balanced.drop(columns = [\"heart_disease_status\"])\n",
    "y_train_balanced = training_data_balanced[\"heart_disease_status\"]\n",
    "\n",
    "# After oversampling\n",
    "print(\"Balanced training set distribution:\")\n",
    "print(y_train_balanced.value_counts())"
   ]
  },
  {
   "cell_type": "markdown",
   "id": "59fc57ee",
   "metadata": {},
   "source": [
    "---\n",
    "## Training and Comparing Models\n",
    "A variety of modeling strategies will be used to find the best model for predicting heart disease. These models include:\n",
    "- Logistic Regression (linear model)\n",
    "- Random Forest (tree-based)\n",
    "- K-Nearest Neighbours (distance-based)\n",
    "- Support Vector Machine (margin-based)\n",
    "\n",
    "Cross-validation will be used to compare each model and evaluate their performances on the training data.\n",
    "\n",
    "Then, models will be further evaluated based on metrics like accuracy, F1 score and ROC AUC."
   ]
  },
  {
   "cell_type": "markdown",
   "id": "52fe9962",
   "metadata": {},
   "source": [
    "1. Logistic Regression"
   ]
  },
  {
   "cell_type": "code",
   "execution_count": 38,
   "id": "5608e49d",
   "metadata": {},
   "outputs": [
    {
     "name": "stdout",
     "output_type": "stream",
     "text": [
      "Logistic Regression CV Accuracy: 0.5084\n"
     ]
    }
   ],
   "source": [
    "pipe_lr = Pipeline([\n",
    "    (\"scaler\", StandardScaler()),\n",
    "    (\"model\", LogisticRegression(max_iter=1000, random_state=1))\n",
    "])\n",
    "\n",
    "scores_lr = cross_val_score(pipe_lr, x_train_balanced, y_train_balanced, cv=5, scoring=\"accuracy\")\n",
    "print(f\"Logistic Regression CV Accuracy: {scores_lr.mean():.4f}\")\n"
   ]
  },
  {
   "cell_type": "markdown",
   "id": "208a436f",
   "metadata": {},
   "source": [
    "2. Random Forest"
   ]
  },
  {
   "cell_type": "code",
   "execution_count": 39,
   "id": "7a69f39d",
   "metadata": {},
   "outputs": [
    {
     "name": "stdout",
     "output_type": "stream",
     "text": [
      "Random Forest CV Accuracy: 0.9798\n"
     ]
    }
   ],
   "source": [
    "pipe_rf = Pipeline([\n",
    "    (\"model\", RandomForestClassifier(random_state=1))\n",
    "])\n",
    "\n",
    "scores_rf = cross_val_score(pipe_rf, x_train_balanced, y_train_balanced, cv=5, scoring=\"accuracy\")\n",
    "print(f\"Random Forest CV Accuracy: {scores_rf.mean():.4f}\")"
   ]
  },
  {
   "cell_type": "markdown",
   "id": "bdbe0579",
   "metadata": {},
   "source": [
    "3. Support Vector Machine (SVC)"
   ]
  },
  {
   "cell_type": "code",
   "execution_count": 40,
   "id": "45cf869b",
   "metadata": {},
   "outputs": [
    {
     "name": "stdout",
     "output_type": "stream",
     "text": [
      "SVM CV Accuracy: 0.7039\n"
     ]
    }
   ],
   "source": [
    "pipe_svc = Pipeline([\n",
    "    (\"scaler\", StandardScaler()),\n",
    "    (\"model\", SVC(probability=True, random_state=1))\n",
    "])\n",
    "\n",
    "scores_svc = cross_val_score(pipe_svc, x_train_balanced, y_train_balanced, cv=5, scoring=\"accuracy\")\n",
    "print(f\"SVM CV Accuracy: {scores_svc.mean():.4f}\")"
   ]
  },
  {
   "cell_type": "markdown",
   "id": "198f70e5",
   "metadata": {},
   "source": [
    "4. K-Nearest Neighbours (KNN)"
   ]
  },
  {
   "cell_type": "code",
   "execution_count": 41,
   "id": "abbf109f",
   "metadata": {},
   "outputs": [
    {
     "name": "stdout",
     "output_type": "stream",
     "text": [
      "KNN CV Accuracy: 0.6945\n"
     ]
    }
   ],
   "source": [
    "pipe_knn = Pipeline([\n",
    "    (\"scaler\", StandardScaler()),\n",
    "    (\"model\", KNeighborsClassifier(n_neighbors=5))\n",
    "])\n",
    "\n",
    "scores_knn = cross_val_score(pipe_knn, x_train_balanced, y_train_balanced, cv=5, scoring=\"accuracy\")\n",
    "print(f\"KNN CV Accuracy: {scores_knn.mean():.4f}\")"
   ]
  },
  {
   "cell_type": "code",
   "execution_count": 43,
   "id": "df63e5cb",
   "metadata": {},
   "outputs": [
    {
     "name": "stdout",
     "output_type": "stream",
     "text": [
      "Logistic Regression CV Scores:\n",
      "  Accuracy : 0.5084\n",
      "  F1 Score : 0.5060\n",
      "  ROC AUC  : 0.5145\n",
      "\n",
      "Random Forest CV Scores:\n",
      "  Accuracy : 0.9798\n",
      "  F1 Score : 0.9794\n",
      "  ROC AUC  : 0.9825\n",
      "\n",
      "SVM CV Scores:\n",
      "  Accuracy : 0.7039\n",
      "  F1 Score : 0.7210\n",
      "  ROC AUC  : 0.7799\n",
      "\n",
      "KNN CV Scores:\n",
      "  Accuracy : 0.6945\n",
      "  F1 Score : 0.7296\n",
      "  ROC AUC  : 0.7705\n",
      "\n"
     ]
    }
   ],
   "source": [
    "from sklearn.metrics import make_scorer, f1_score, roc_auc_score\n",
    "\n",
    "def evaluate_model(name, pipeline):\n",
    "    acc = cross_val_score(pipeline, x_train_balanced, y_train_balanced, cv=5, scoring=\"accuracy\").mean()\n",
    "    f1 = cross_val_score(pipeline, x_train_balanced, y_train_balanced, cv=5, scoring=\"f1\").mean()\n",
    "    roc = cross_val_score(pipeline, x_train_balanced, y_train_balanced, cv=5, scoring=\"roc_auc\").mean()\n",
    "    \n",
    "    print(f\"{name} CV Scores:\")\n",
    "    print(f\"  Accuracy : {acc:.4f}\")\n",
    "    print(f\"  F1 Score : {f1:.4f}\")\n",
    "    print(f\"  ROC AUC  : {roc:.4f}\")\n",
    "    print()\n",
    "\n",
    "evaluate_model(\"Logistic Regression\", pipe_lr)\n",
    "evaluate_model(\"Random Forest\", pipe_rf)\n",
    "evaluate_model(\"SVM\", pipe_svc)\n",
    "evaluate_model(\"KNN\", pipe_knn)"
   ]
  },
  {
   "cell_type": "code",
   "execution_count": 52,
   "id": "15c713f3",
   "metadata": {},
   "outputs": [
    {
     "name": "stdout",
     "output_type": "stream",
     "text": [
      "=== Classification Report ===\n",
      "              precision    recall  f1-score   support\n",
      "\n",
      "           0       0.79      0.67      0.73      1600\n",
      "           1       0.19      0.30      0.23       400\n",
      "\n",
      "    accuracy                           0.60      2000\n",
      "   macro avg       0.49      0.49      0.48      2000\n",
      "weighted avg       0.67      0.60      0.63      2000\n",
      "\n",
      "=== Confusion Matrix ===\n"
     ]
    },
    {
     "data": {
      "image/png": "[encoded data removed]",
      "text/plain": [
       "<Figure size 640x480 with 2 Axes>"
      ]
     },
     "metadata": {},
     "output_type": "display_data"
    },
    {
     "name": "stdout",
     "output_type": "stream",
     "text": [
      "Test ROC AUC Score: 0.4991\n"
     ]
    },
    {
     "data": {
      "image/png": "[encoded data removed]",
      "text/plain": [
       "<Figure size 640x480 with 1 Axes>"
      ]
     },
     "metadata": {},
     "output_type": "display_data"
    }
   ],
   "source": [
    "from sklearn.metrics import classification_report, confusion_matrix, ConfusionMatrixDisplay, roc_auc_score, precision_recall_curve\n",
    "import matplotlib.pyplot as plt\n",
    "import numpy as np\n",
    "\n",
    "# Step 1: Train on the full balanced training set\n",
    "pipe_rf.fit(x_train_balanced, y_train_balanced)\n",
    "\n",
    "# Step 2: Predict probabilities on test set\n",
    "y_proba = pipe_rf.predict_proba(x_test)[:, 1]  # Probability of class 1 (\"Present\")\n",
    "\n",
    "# Step 3: Apply a tuned threshold (e.g., 0.3 for better recall)\n",
    "threshold = 0.3\n",
    "y_pred = (y_proba >= threshold).astype(int)\n",
    "\n",
    "# Step 4: Evaluate performance on test set\n",
    "print(\"=== Classification Report ===\")\n",
    "print(classification_report(y_test, y_pred))\n",
    "\n",
    "print(\"=== Confusion Matrix ===\")\n",
    "ConfusionMatrixDisplay.from_predictions(y_test, y_pred)\n",
    "plt.show()\n",
    "\n",
    "# Step 5: ROC AUC Score on test set\n",
    "roc_auc = roc_auc_score(y_test, y_proba)\n",
    "print(f\"Test ROC AUC Score: {roc_auc:.4f}\")\n",
    "\n",
    "# Step 6: Optional – Plot Precision-Recall Curve\n",
    "precisions, recalls, thresholds = precision_recall_curve(y_test, y_proba)\n",
    "plt.plot(recalls, precisions)\n",
    "plt.xlabel(\"Recall\")\n",
    "plt.ylabel(\"Precision\")\n",
    "plt.title(\"Precision-Recall Curve (Test Set)\")\n",
    "plt.grid(True)\n",
    "plt.show()"
   ]
  },
  {
   "cell_type": "markdown",
   "id": "38a4ca03",
   "metadata": {},
   "source": [
    "✅ 1. Modeling Notebook\n",
    "Purpose: Build, train, and tune machine learning models.\n",
    "\n",
    "What to include:\n",
    "\n",
    "Load preprocessed & split data (e.g., from a .pkl file)\n",
    "\n",
    "Oversample training data\n",
    "\n",
    "Train multiple models (e.g., Random Forest, Logistic Regression)\n",
    "\n",
    "Use cross-validation\n",
    "\n",
    "Hyperparameter tuning (GridSearchCV, RandomizedSearchCV)\n",
    "\n",
    "Select the best model based on metrics\n",
    "\n",
    "Make predictions on test data\n",
    "\n",
    "Save the best model"
   ]
  },
  {
   "cell_type": "markdown",
   "id": "b79e1f3e",
   "metadata": {},
   "source": []
  }
 ],
 "metadata": {
  "kernelspec": {
   "display_name": "venv",
   "language": "python",
   "name": "python3"
  },
  "language_info": {
   "codemirror_mode": {
    "name": "ipython",
    "version": 3
   },
   "file_extension": ".py",
   "mimetype": "text/x-python",
   "name": "python",
   "nbconvert_exporter": "python",
   "pygments_lexer": "ipython3",
   "version": "3.13.5"
  }
 },
 "nbformat": 4,
 "nbformat_minor": 5
}
