{
 "cells": [
  {
   "cell_type": "code",
   "execution_count": 2,
   "id": "88641f7c",
   "metadata": {},
   "outputs": [],
   "source": [
    "# Load Libaries\n",
    "# import pandas as pd\n",
    "import pickle"
   ]
  },
  {
   "cell_type": "code",
   "execution_count": 3,
   "id": "bbcd46a6",
   "metadata": {},
   "outputs": [
    {
     "ename": "NameError",
     "evalue": "name 'x_train' is not defined",
     "output_type": "error",
     "traceback": [
      "\u001b[31m---------------------------------------------------------------------------\u001b[39m",
      "\u001b[31mNameError\u001b[39m                                 Traceback (most recent call last)",
      "\u001b[36mCell\u001b[39m\u001b[36m \u001b[39m\u001b[32mIn[3]\u001b[39m\u001b[32m, line 2\u001b[39m\n\u001b[32m      1\u001b[39m \u001b[38;5;66;03m# Combine x_train and y_train for oversampling\u001b[39;00m\n\u001b[32m----> \u001b[39m\u001b[32m2\u001b[39m training_data = pd.concat([\u001b[43mx_train\u001b[49m, y_train], axis = \u001b[32m1\u001b[39m)\n\u001b[32m      4\u001b[39m \u001b[38;5;66;03m# Oversampling (for equal majority and minority class)\u001b[39;00m\n\u001b[32m      5\u001b[39m majority_class = training_data[training_data[\u001b[33m\"\u001b[39m\u001b[33mheart_disease_status\u001b[39m\u001b[33m\"\u001b[39m] == \u001b[33m\"\u001b[39m\u001b[33mAbsent\u001b[39m\u001b[33m\"\u001b[39m]\n",
      "\u001b[31mNameError\u001b[39m: name 'x_train' is not defined"
     ]
    }
   ],
   "source": [
    "# Combine x_train and y_train for oversampling\n",
    "training_data = pd.concat([x_train, y_train], axis = 1)\n",
    "\n",
    "# Oversampling (for equal majority and minority class)\n",
    "majority_class = training_data[training_data[\"heart_disease_status\"] == \"Absent\"]\n",
    "minority_class = training_data[training_data[\"heart_disease_status\"] == \"Present\"]\n",
    "minority_oversampled = minority_class.sample(n = len(majority_class), replace = True, random_state = 1)\n",
    "\n",
    "# New training data\n",
    "training_data_balanced = pd.concat([majority_class, minority_oversampled])\n",
    "training_data_balanced = training_data_balanced.sample(frac = 1, random_state = 1).reset_index(drop = True)\n",
    "\n",
    "# Separate balanced training data\n",
    "x_train_balanced = training_data_balanced.drop(columns = [\"heart_disease_status\"])\n",
    "y_train_balanced = training_data_balanced[\"heart_disease_status\"]\n",
    "\n",
    "# After oversampling\n",
    "print(\"\\nBalanced training set distribution:\")\n",
    "print(y_train_balanced.value_counts())"
   ]
  },
  {
   "cell_type": "code",
   "execution_count": null,
   "id": "59fc57ee",
   "metadata": {},
   "outputs": [],
   "source": []
  },
  {
   "cell_type": "markdown",
   "id": "38a4ca03",
   "metadata": {},
   "source": [
    "## 5. Data Preprocessing\n",
    "\n",
    "- Feature engineering\n",
    "- Encoding categorical variables\n",
    "- Scaling/normalization\n",
    "- Splitting data into training and test sets\n",
    "\n",
    "## 6. Model Selection and Training\n",
    "\n",
    "- Algorithms chosen (e.g., Logistic Regression, Random Forest, etc.)\n",
    "- Model training details\n",
    "- Hyperparameter tuning\n",
    "\n",
    "## 7. Model Evaluation\n",
    "\n",
    "- Metrics used (accuracy, precision, recall, ROC-AUC)\n",
    "- Confusion matrix\n",
    "- Cross-validation results\n",
    "\n",
    "## 8. Results and Discussion\n",
    "\n",
    "- Interpret the results\n",
    "- Feature importance\n",
    "- Limitations of the model\n",
    "\n",
    "## 9. Conclusion\n",
    "\n",
    "Summarize the findings and potential next steps.\n",
    "\n",
    "## 10. References\n",
    "\n",
    "List any papers, articles, or resources you referenced.\n",
    "\n",
    "---"
   ]
  },
  {
   "cell_type": "markdown",
   "id": "b79e1f3e",
   "metadata": {},
   "source": []
  }
 ],
 "metadata": {
  "kernelspec": {
   "display_name": "venv",
   "language": "python",
   "name": "python3"
  },
  "language_info": {
   "codemirror_mode": {
    "name": "ipython",
    "version": 3
   },
   "file_extension": ".py",
   "mimetype": "text/x-python",
   "name": "python",
   "nbconvert_exporter": "python",
   "pygments_lexer": "ipython3",
   "version": "3.13.5"
  }
 },
 "nbformat": 4,
 "nbformat_minor": 5
}
