{
 "cells": [
  {
   "cell_type": "markdown",
   "id": "f741bd48",
   "metadata": {},
   "source": [
    "# Modeling\n",
    "Build, train and tune ML models to predict heart disease using preprocessed data"
   ]
  },
  {
   "cell_type": "code",
   "execution_count": null,
   "id": "88641f7c",
   "metadata": {},
   "outputs": [],
   "source": [
    "# Load Libaries\n",
    "import pandas as pd\n",
    "import matplotlib.pyplot as plt\n",
    "from sklearn.pipeline import Pipeline\n",
    "from sklearn.preprocessing import StandardScaler\n",
    "from sklearn.linear_model import LogisticRegression\n",
    "from sklearn.ensemble import RandomForestClassifier\n",
    "from sklearn.svm import SVC\n",
    "from sklearn.neighbors import KNeighborsClassifier\n",
    "from sklearn.model_selection import GridSearchCV, cross_val_score\n",
    "from sklearn.metrics import classification_report, ConfusionMatrixDisplay, roc_auc_score\n",
    "from imblearn.over_sampling import SMOTENC\n",
    "\n",
    "# Load the saved data splits\n",
    "with open(\"../data/split_data/x_train.pkl\", \"rb\") as f:\n",
    "    x_train = pickle.load(f)\n",
    "\n",
    "with open(\"../data/split_data/y_train.pkl\", \"rb\") as f:\n",
    "    y_train = pickle.load(f)\n",
    "\n",
    "with open(\"../data/split_data/x_test.pkl\", \"rb\") as f:\n",
    "    x_test = pickle.load(f)\n",
    "\n",
    "with open(\"../data/split_data/y_test.pkl\", \"rb\") as f:\n",
    "    y_test = pickle.load(f)"
   ]
  },
  {
   "cell_type": "markdown",
   "id": "63a78df2",
   "metadata": {},
   "source": [
    "---\n",
    "## Dealing with Class Imbalance"
   ]
  },
  {
   "cell_type": "markdown",
   "id": "23bb827c",
   "metadata": {},
   "source": [
    "Note that the dataset is imbalanced, where most entries belong to the \"0\" class for heart disease status. It is important to deal with this imbalance as it may cause the model to be bias and predict the majority class more. Oversampling to balance the classes in the training set will allow the model to better learn patterns associated with the minority class.\n",
    "\n",
    "SMOTE (Synthetic Minority Over-sampling Technique) is an oversampling method that generates samples for the minority class by interpolating between existing minority class samples. This helps the model better learn patterns and improve predictive performance.\n",
    "\n",
    "However, SMOTE assumes all features are numeric and this dataset has categorical variables. Interpolation will create fractional values that don't represent valid categories and cause \"missing\" or invalid values.\n",
    "\n",
    "SMOTENC (SMOTE for Nominal and Continuous) is used instead, a version of SMOTE that can handle datasets with both numerical and categorical features. SMOTENC treats the categorical variables as discrete and interpolation won't be done on those features, and instead samples will be generated through their categorical nature."
   ]
  },
  {
   "cell_type": "code",
   "execution_count": 102,
   "id": "bbcd46a6",
   "metadata": {},
   "outputs": [
    {
     "name": "stdout",
     "output_type": "stream",
     "text": [
      "Balanced training set distribution (SMOTE):\n",
      "heart_disease_status\n",
      "0    6400\n",
      "1    6400\n",
      "Name: count, dtype: int64\n"
     ]
    }
   ],
   "source": [
    "categorical_features = [\"exercise_habits\", \"smoking\", \"family_heart_disease\", \"diabetes\", \"high_blood_pressure\", \"low_hdl_cholesterol\", \"high_ldl_cholesterol\", \"stress_level\", \"sugar_consumption\", \"gender_male\"]\n",
    "\n",
    "# Get indices of categorical columns\n",
    "categorical_indices = []\n",
    "for col in categorical_features:\n",
    "    idx = x_train.columns.get_loc(col)\n",
    "    categorical_indices.append(idx)\n",
    "\n",
    "# Use SMOTENC with categorical feature indices\n",
    "smotenc = SMOTENC(categorical_features = categorical_indices, random_state = 1)\n",
    "x_train_balanced, y_train_balanced = smotenc.fit_resample(x_train, y_train)\n",
    "\n",
    "print(\"Balanced training set distribution (SMOTE):\")\n",
    "print(y_train_balanced.value_counts())"
   ]
  },
  {
   "cell_type": "markdown",
   "id": "59fc57ee",
   "metadata": {},
   "source": [
    "---\n",
    "## Training and Comparing Models\n",
    "A variety of modeling strategies will be used to find the best model for predicting heart disease. These models include:\n",
    "- Logistic Regression (linear model)\n",
    "- Random Forest (tree-based)\n",
    "- Support Vector Machine (margin-based)\n",
    "- K-Nearest Neighbours (distance-based)\n",
    "\n",
    "5-fold cross-validation will be used to compare each model and evaluate their performances on the balanced training data.\n",
    "\n",
    "Then, models will be further evaluated based on metrics like accuracy, F1 score and ROC AUC. The model that gives the best statistics will be chosen and further tuned."
   ]
  },
  {
   "cell_type": "markdown",
   "id": "52fe9962",
   "metadata": {},
   "source": [
    "#### 1. Logistic Regression\n",
    "\n",
    "Since this is a linear model, the features are standardized using StandardScalar. This is like a simple baseline model"
   ]
  },
  {
   "cell_type": "code",
   "execution_count": 76,
   "id": "5608e49d",
   "metadata": {},
   "outputs": [
    {
     "name": "stdout",
     "output_type": "stream",
     "text": [
      "Logistic Regression CV Accuracy: 0.5328125\n"
     ]
    }
   ],
   "source": [
    "# Pipeline with standard scaler and logistic regression model\n",
    "pipe_lr = Pipeline([(\"scaler\", StandardScaler()),\n",
    "                    (\"model\", LogisticRegression(max_iter = 1000, random_state = 1))])\n",
    "\n",
    "acc_lr = cross_val_score(pipe_lr, x_train_balanced, y_train_balanced, cv = 5, scoring = \"accuracy\")\n",
    "print(f\"Logistic Regression CV Accuracy: {acc_lr.mean()}\")"
   ]
  },
  {
   "cell_type": "markdown",
   "id": "208a436f",
   "metadata": {},
   "source": [
    "#### 2. Random Forest\n",
    "\n",
    "Random forest is a tree-based method that does not require standardizing. It is known to handle non-linear relationships well."
   ]
  },
  {
   "cell_type": "code",
   "execution_count": 77,
   "id": "7a69f39d",
   "metadata": {},
   "outputs": [
    {
     "name": "stdout",
     "output_type": "stream",
     "text": [
      "Random Forest CV Accuracy: 0.7876562500000001\n"
     ]
    }
   ],
   "source": [
    "# Pipeline with Random Forest classifier\n",
    "pipe_rf = Pipeline([(\"model\", RandomForestClassifier(random_state = 1))])\n",
    "\n",
    "acc_rf = cross_val_score(pipe_rf, x_train_balanced, y_train_balanced, cv = 5, scoring = \"accuracy\")\n",
    "print(f\"Random Forest CV Accuracy: {acc_rf.mean()}\")"
   ]
  },
  {
   "cell_type": "markdown",
   "id": "bdbe0579",
   "metadata": {},
   "source": [
    "#### 3. Support Vector Machine (SVC)\n",
    "\n",
    "A margin-based model that needs standardization. probability = True for probability estimates like ROC AUC."
   ]
  },
  {
   "cell_type": "code",
   "execution_count": 78,
   "id": "45cf869b",
   "metadata": {},
   "outputs": [
    {
     "name": "stdout",
     "output_type": "stream",
     "text": [
      "SVM CV Accuracy: 0.718984375\n"
     ]
    }
   ],
   "source": [
    "# Pipeline with StandardScaler and SVM classifier\n",
    "pipe_svc = Pipeline([(\"scaler\", StandardScaler()),\n",
    "                     (\"model\", SVC(probability = True, random_state = 1))])\n",
    "\n",
    "acc_svc = cross_val_score(pipe_svc, x_train_balanced, y_train_balanced, cv = 5, scoring = \"accuracy\")\n",
    "print(f\"SVM CV Accuracy: {acc_svc.mean()}\")"
   ]
  },
  {
   "cell_type": "markdown",
   "id": "198f70e5",
   "metadata": {},
   "source": [
    "#### 4. K-Nearest Neighbours (KNN)\n",
    "\n",
    "Distance-based model that also needs standardization. 5 neighbours will be used for this classification."
   ]
  },
  {
   "cell_type": "code",
   "execution_count": 79,
   "id": "abbf109f",
   "metadata": {},
   "outputs": [
    {
     "name": "stdout",
     "output_type": "stream",
     "text": [
      "KNN CV Accuracy: 0.6946874999999999\n"
     ]
    }
   ],
   "source": [
    "# Pipeline with StandardScaler and K-Nearest Neighbours classifier (k = 5)\n",
    "pipe_knn = Pipeline([(\"scaler\", StandardScaler()),\n",
    "                     (\"model\", KNeighborsClassifier(n_neighbors = 5))])\n",
    "\n",
    "acc_knn = cross_val_score(pipe_knn, x_train_balanced, y_train_balanced, cv = 5, scoring = \"accuracy\")\n",
    "print(f\"KNN CV Accuracy: {acc_knn.mean()}\")"
   ]
  },
  {
   "cell_type": "markdown",
   "id": "cfa81bd3",
   "metadata": {},
   "source": [
    "Comparing the models' Accuracy, F1 Score and ROC AUC:"
   ]
  },
  {
   "cell_type": "code",
   "execution_count": 86,
   "id": "df63e5cb",
   "metadata": {},
   "outputs": [
    {
     "name": "stdout",
     "output_type": "stream",
     "text": [
      "Logistic Regression CV Scores:\n",
      "Accuracy : 0.5328\n",
      "F1 Score : 0.5307\n",
      "ROC AUC  : 0.5451\n",
      "\n",
      "Random Forest CV Scores:\n",
      "Accuracy : 0.7877\n",
      "F1 Score : 0.7794\n",
      "ROC AUC  : 0.8715\n",
      "\n",
      "SVM CV Scores:\n",
      "Accuracy : 0.7190\n",
      "F1 Score : 0.7172\n",
      "ROC AUC  : 0.7887\n",
      "\n",
      "KNN CV Scores:\n",
      "Accuracy : 0.6947\n",
      "F1 Score : 0.7465\n",
      "ROC AUC  : 0.8000\n",
      "\n"
     ]
    }
   ],
   "source": [
    "# Function to evaluate a model pipeline using cross-validation for accuracy, F1 score, and ROC AUC\n",
    "def evaluating_models(name, pipeline):\n",
    "    # name: str, name of the model\n",
    "    # pipeline: sklearn Pipeline object, the model pipeline to evaluate\n",
    "    acc = cross_val_score(pipeline, x_train_balanced, y_train_balanced, cv = 5, scoring = \"accuracy\").mean()\n",
    "    f1 = cross_val_score(pipeline, x_train_balanced, y_train_balanced, cv = 5, scoring = \"f1\").mean()\n",
    "    roc = cross_val_score(pipeline, x_train_balanced, y_train_balanced, cv = 5, scoring = \"roc_auc\").mean()\n",
    "    \n",
    "    print(f\"{name} CV Scores:\")\n",
    "    print(f\"Accuracy : {acc:.4f}\")\n",
    "    print(f\"F1 Score : {f1:.4f}\")\n",
    "    print(f\"ROC AUC  : {roc:.4f}\")\n",
    "    print()\n",
    "\n",
    "# Models\n",
    "evaluating_models(\"Logistic Regression\", pipe_lr)\n",
    "evaluating_models(\"Random Forest\", pipe_rf)\n",
    "evaluating_models(\"SVM\", pipe_svc)\n",
    "evaluating_models(\"KNN\", pipe_knn)"
   ]
  },
  {
   "cell_type": "markdown",
   "id": "013941d9",
   "metadata": {},
   "source": [
    "Based on the cross-validation results, the Random Forest model outperforms the other models for all the metrics. Its ROC AUC score of 0.8715 means that the model is good at telling the difference between the two classes. Also, its high accuracy and F1 score shows a great balance between precision and recall.\n",
    "\n",
    "Thus, **Random Forest** will be used as the primary model. Hyperparameter tuning (with Grid Search) is necessary to optimize the model's parameters further to improve its predictions."
   ]
  },
  {
   "cell_type": "code",
   "execution_count": 108,
   "id": "66cada6d",
   "metadata": {},
   "outputs": [
    {
     "name": "stdout",
     "output_type": "stream",
     "text": [
      "Best parameters: {'max_depth': None, 'max_features': 'sqrt', 'min_samples_leaf': 1, 'min_samples_split': 2, 'n_estimators': 200}\n"
     ]
    }
   ],
   "source": [
    "# Hyperparameters to search over for Random Forest\n",
    "param_grid = {\n",
    "    \"n_estimators\": [100, 200],      # Number of trees in the forest\n",
    "    \"max_depth\": [None, 10, 20],     # Maximum depth of each tree\n",
    "    \"min_samples_split\": [2, 5],     # Minimum number of samples required to split a node\n",
    "    \"min_samples_leaf\": [1, 2],      # Maximum number of samples required at a leaf node\n",
    "    \"max_features\": [\"sqrt\", \"log2\"] # Number of features to consider when looking for best split\n",
    "}\n",
    "\n",
    "# GridSearchCV set up with F1 Score\n",
    "grid_search = GridSearchCV(\n",
    "    estimator = RandomForestClassifier(random_state = 1),\n",
    "    param_grid = param_grid,\n",
    "    cv = 5,\n",
    "    scoring = \"f1\",\n",
    "    n_jobs = -1\n",
    ")\n",
    "\n",
    "# Grid search on balanced data\n",
    "grid_search.fit(x_train_balanced, y_train_balanced)\n",
    "print(\"Best parameters:\", grid_search.best_params_)\n",
    "\n",
    "# Save best hyperparameter combination\n",
    "best_rf = grid_search.best_estimator_"
   ]
  },
  {
   "cell_type": "markdown",
   "id": "61fc144a",
   "metadata": {},
   "source": [
    "#### Feature Importance:"
   ]
  },
  {
   "cell_type": "code",
   "execution_count": 116,
   "id": "1f42f3a0",
   "metadata": {},
   "outputs": [
    {
     "data": {
      "image/png": "[encoded data removed]",
      "text/plain": [
       "<Figure size 1000x600 with 1 Axes>"
      ]
     },
     "metadata": {},
     "output_type": "display_data"
    }
   ],
   "source": [
    "# Get importance scores from model\n",
    "importances = best_rf.feature_importances_\n",
    "features = x_train_balanced.columns\n",
    "\n",
    "# Importance DataFrame\n",
    "importance_df = pd.DataFrame({\"Feature\": features, \"Importance\": importances})\n",
    "importance_df = importance_df.sort_values(by = \"Importance\", ascending = False)\n",
    "\n",
    "# Plot top 10 important features\n",
    "plt.figure(figsize=(10, 6))\n",
    "plt.barh(importance_df[\"Feature\"][:10], importance_df[\"Importance\"][:10])\n",
    "plt.xlabel(\"Importance\")\n",
    "plt.title(\"Top 10 Feature Importances\")\n",
    "plt.gca().invert_yaxis()\n",
    "plt.show()"
   ]
  },
  {
   "cell_type": "code",
   "execution_count": 118,
   "id": "71d51062",
   "metadata": {},
   "outputs": [],
   "source": [
    "# Refit the best model\n",
    "best_rf.fit(x_train_balanced, y_train_balanced)\n",
    "\n",
    "# Save the model\n",
    "with open(\"../models/best_rf_model.pkl\", \"wb\") as f:\n",
    "    pickle.dump(best_rf, f)"
   ]
  },
  {
   "cell_type": "markdown",
   "id": "b79e1f3e",
   "metadata": {},
   "source": []
  }
 ],
 "metadata": {
  "kernelspec": {
   "display_name": "venv",
   "language": "python",
   "name": "python3"
  },
  "language_info": {
   "codemirror_mode": {
    "name": "ipython",
    "version": 3
   },
   "file_extension": ".py",
   "mimetype": "text/x-python",
   "name": "python",
   "nbconvert_exporter": "python",
   "pygments_lexer": "ipython3",
   "version": "3.11.0"
  }
 },
 "nbformat": 4,
 "nbformat_minor": 5
}
