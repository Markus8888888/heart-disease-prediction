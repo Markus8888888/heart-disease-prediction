{
 "cells": [
  {
   "cell_type": "markdown",
   "id": "dd4af4e5",
   "metadata": {},
   "source": [
    "# Predicting Heart Disease Risk\n",
    "#### By Markus Chu"
   ]
  },
  {
   "cell_type": "markdown",
   "id": "e3ce313c",
   "metadata": {},
   "source": [
    "---\n",
    "## 3. Data Description\n",
    "\n",
    "Describe the dataset(s) you will use:\n",
    "- Source of the data\n",
    "- Number of records and features\n",
    "- Description of key features (age, sex, cholesterol, etc.)\n",
    "\n",
    "## 4. Exploratory Data Analysis (EDA)\n",
    "\n",
    "- Summary statistics\n",
    "- Data visualization (histograms, boxplots, correlations)\n",
    "- Handling missing values and outliers\n",
    "\n",
    "## 5. Data Preprocessing\n",
    "\n",
    "- Feature engineering\n",
    "- Encoding categorical variables\n",
    "- Scaling/normalization\n",
    "- Splitting data into training and test sets\n",
    "\n",
    "## 6. Model Selection and Training\n",
    "\n",
    "- Algorithms chosen (e.g., Logistic Regression, Random Forest, etc.)\n",
    "- Model training details\n",
    "- Hyperparameter tuning\n",
    "\n",
    "## 7. Model Evaluation\n",
    "\n",
    "- Metrics used (accuracy, precision, recall, ROC-AUC)\n",
    "- Confusion matrix\n",
    "- Cross-validation results\n",
    "\n",
    "## 8. Results and Discussion\n",
    "\n",
    "- Interpret the results\n",
    "- Feature importance\n",
    "- Limitations of the model\n",
    "\n",
    "## 9. Conclusion\n",
    "\n",
    "Summarize the findings and potential next steps.\n",
    "\n",
    "## 10. References\n",
    "\n",
    "List any papers, articles, or resources you referenced.\n",
    "\n",
    "---"
   ]
  },
  {
   "cell_type": "markdown",
   "id": "f5a6e441",
   "metadata": {},
   "source": []
  },
  {
   "cell_type": "code",
   "execution_count": 1,
   "id": "941fbb1d",
   "metadata": {},
   "outputs": [],
   "source": [
    "# Libaries for Data cleaning, manipulation, visualization, statistical analysis, ML\n",
    "import numpy as np\n",
    "import pandas as pd\n",
    "import matplotlib.pyplot as plt\n",
    "import seaborn as sns\n",
    "from sklearn.model_selection import train_test_split\n",
    "from sklearn.preprocessing import StandardScaler\n",
    "from sklearn.linear_model import LinearRegression\n",
    "from sklearn.ensemble import RandomForestClassifier\n",
    "from sklearn.metrics import accuracy_score, confusion_matrix, classification_report"
   ]
  },
  {
   "cell_type": "code",
   "execution_count": 3,
   "id": "fbf02ab9",
   "metadata": {},
   "outputs": [],
   "source": [
    "df = pd.read_csv(\"data/heart_disease.csv\")"
   ]
  },
  {
   "cell_type": "code",
   "execution_count": null,
   "id": "6797bc19",
   "metadata": {},
   "outputs": [],
   "source": []
  }
 ],
 "metadata": {
  "kernelspec": {
   "display_name": "venv",
   "language": "python",
   "name": "python3"
  },
  "language_info": {
   "codemirror_mode": {
    "name": "ipython",
    "version": 3
   },
   "file_extension": ".py",
   "mimetype": "text/x-python",
   "name": "python",
   "nbconvert_exporter": "python",
   "pygments_lexer": "ipython3",
   "version": "3.13.5"
  }
 },
 "nbformat": 4,
 "nbformat_minor": 5
}
