{
 "cells": [
  {
   "cell_type": "markdown",
   "id": "a2e8515d",
   "metadata": {},
   "source": [
    "## Results and Interpretation\n",
    "\n",
    "Analyzing the performance of the final model on the test set."
   ]
  },
  {
   "cell_type": "code",
   "execution_count": 5,
   "id": "53187000",
   "metadata": {},
   "outputs": [],
   "source": [
    "# Load Libraries\n",
    "import pandas as pd\n",
    "import pickle\n",
    "\n",
    "# Load model\n",
    "with open(\"../models/best_rf_model.pkl\", \"rb\") as f:\n",
    "    best_rf = pickle.load(f)\n",
    "\n",
    "# Load test data\n",
    "with open(\"../data/split_data/x_test.pkl\", \"rb\") as f:\n",
    "    x_test = pickle.load(f)\n",
    "\n",
    "with open(\"../data/split_data/y_test.pkl\", \"rb\") as f:\n",
    "    y_test = pickle.load(f)"
   ]
  },
  {
   "cell_type": "markdown",
   "id": "9d7f7067",
   "metadata": {},
   "source": [
    "Results & Interpretation Notebook\n",
    "Purpose: Analyze and interpret model results in a meaningful way.\n",
    "\n",
    "What to include:\n",
    "\n",
    "Load saved model and test set\n",
    "\n",
    "Show:\n",
    "\n",
    "Accuracy\n",
    "\n",
    "Precision, Recall, F1-Score\n",
    "\n",
    "Confusion matrix\n",
    "\n",
    "ROC curve, AUC score\n",
    "\n",
    "Explain what the metrics mean\n",
    "\n",
    "e.g., “Recall is low because…”\n",
    "\n",
    "Discuss misclassifications or model behavior\n",
    "\n",
    "Feature importance or SHAP values\n",
    "\n",
    "Summary: \"What do results tell us about predicting heart disease?\""
   ]
  },
  {
   "cell_type": "markdown",
   "id": "9b37e150",
   "metadata": {},
   "source": []
  }
 ],
 "metadata": {
  "kernelspec": {
   "display_name": "venv",
   "language": "python",
   "name": "python3"
  },
  "language_info": {
   "codemirror_mode": {
    "name": "ipython",
    "version": 3
   },
   "file_extension": ".py",
   "mimetype": "text/x-python",
   "name": "python",
   "nbconvert_exporter": "python",
   "pygments_lexer": "ipython3",
   "version": "3.11.0"
  }
 },
 "nbformat": 4,
 "nbformat_minor": 5
}
