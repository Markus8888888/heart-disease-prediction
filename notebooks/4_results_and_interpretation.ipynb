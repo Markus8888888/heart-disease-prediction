{
 "cells": [
  {
   "cell_type": "markdown",
   "id": "a2e8515d",
   "metadata": {},
   "source": [
    "## Results and Interpretation\n",
    "\n",
    "Analyzing the performance of the final model on the test set."
   ]
  },
  {
   "cell_type": "code",
   "execution_count": 5,
   "id": "53187000",
   "metadata": {},
   "outputs": [],
   "source": [
    "# Load Libraries\n",
    "import pandas as pd\n",
    "import pickle\n",
    "from sklearn.metrics import classification_report, ConfusionMatrixDisplay\n",
    "\n",
    "# Load model\n",
    "with open(\"../models/best_rf_model.pkl\", \"rb\") as f:\n",
    "    best_rf = pickle.load(f)\n",
    "\n",
    "# Load test data\n",
    "with open(\"../data/split_data/x_test.pkl\", \"rb\") as f:\n",
    "    x_test = pickle.load(f)\n",
    "\n",
    "with open(\"../data/split_data/y_test.pkl\", \"rb\") as f:\n",
    "    y_test = pickle.load(f)"
   ]
  },
  {
   "cell_type": "markdown",
   "id": "89372f66",
   "metadata": {},
   "source": [
    "---\n",
    "## Evaluating Model"
   ]
  },
  {
   "cell_type": "markdown",
   "id": "ad853b50",
   "metadata": {},
   "source": [
    "1. Classification report\n",
    "- Accuracy: correct predictions\n",
    "- Precision: how many predicted \"positives\" were correct\n",
    "- Recall: How well the model captures actual cases of heart disease\n",
    "- F1 Score: "
   ]
  },
  {
   "cell_type": "code",
   "execution_count": 6,
   "id": "c85acd75",
   "metadata": {},
   "outputs": [
    {
     "name": "stdout",
     "output_type": "stream",
     "text": [
      "Classification Report:\n",
      "\n",
      "              precision    recall  f1-score   support\n",
      "\n",
      "           0       0.80      0.79      0.80      1600\n",
      "           1       0.21      0.21      0.21       400\n",
      "\n",
      "    accuracy                           0.68      2000\n",
      "   macro avg       0.50      0.50      0.50      2000\n",
      "weighted avg       0.68      0.68      0.68      2000\n",
      "\n"
     ]
    }
   ],
   "source": [
    "y_pred = best_rf.predict(x_test)\n",
    "\n",
    "print(\"Classification Report:\\n\")\n",
    "print(classification_report(y_test, y_pred))"
   ]
  },
  {
   "cell_type": "markdown",
   "id": "08f2a7bf",
   "metadata": {},
   "source": [
    "2. Confusion Matrix"
   ]
  },
  {
   "cell_type": "code",
   "execution_count": 7,
   "id": "03b4912e",
   "metadata": {},
   "outputs": [
    {
     "data": {
      "text/plain": [
       "<sklearn.metrics._plot.confusion_matrix.ConfusionMatrixDisplay at 0x1cbcf2884d0>"
      ]
     },
     "execution_count": 7,
     "metadata": {},
     "output_type": "execute_result"
    },
    {
     "data": {
      "image/png": "[encoded data removed]",
      "text/plain": [
       "<Figure size 640x480 with 2 Axes>"
      ]
     },
     "metadata": {},
     "output_type": "display_data"
    }
   ],
   "source": [
    "from sklearn.metrics import ConfusionMatrixDisplay\n",
    "\n",
    "ConfusionMatrixDisplay.from_estimator(best_rf, x_test, y_test, display_labels=[\"No Disease\", \"Heart Disease\"], cmap=\"Blues\")"
   ]
  },
  {
   "cell_type": "code",
   "execution_count": null,
   "id": "21442cac",
   "metadata": {},
   "outputs": [],
   "source": []
  },
  {
   "cell_type": "code",
   "execution_count": null,
   "id": "ea7b422a",
   "metadata": {},
   "outputs": [],
   "source": []
  },
  {
   "cell_type": "markdown",
   "id": "9d7f7067",
   "metadata": {},
   "source": [
    "Results & Interpretation Notebook\n",
    "Purpose: Analyze and interpret model results in a meaningful way.\n",
    "\n",
    "What to include:\n",
    "\n",
    "Load saved model and test set\n",
    "\n",
    "Show:\n",
    "\n",
    "Accuracy\n",
    "\n",
    "Precision, Recall, F1-Score\n",
    "\n",
    "Confusion matrix\n",
    "\n",
    "ROC curve, AUC score\n",
    "\n",
    "Explain what the metrics mean\n",
    "\n",
    "e.g., “Recall is low because…”\n",
    "\n",
    "Discuss misclassifications or model behavior\n",
    "\n",
    "Feature importance or SHAP values\n",
    "\n",
    "Summary: \"What do results tell us about predicting heart disease?\""
   ]
  },
  {
   "cell_type": "markdown",
   "id": "9b37e150",
   "metadata": {},
   "source": []
  }
 ],
 "metadata": {
  "kernelspec": {
   "display_name": "venv",
   "language": "python",
   "name": "python3"
  },
  "language_info": {
   "codemirror_mode": {
    "name": "ipython",
    "version": 3
   },
   "file_extension": ".py",
   "mimetype": "text/x-python",
   "name": "python",
   "nbconvert_exporter": "python",
   "pygments_lexer": "ipython3",
   "version": "3.11.0"
  }
 },
 "nbformat": 4,
 "nbformat_minor": 5
}
